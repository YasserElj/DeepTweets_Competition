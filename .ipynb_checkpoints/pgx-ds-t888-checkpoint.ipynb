{
 "cells": [
  {
   "cell_type": "code",
   "execution_count": 1,
   "metadata": {
    "execution": {
     "iopub.execute_input": "2023-10-27T12:04:59.089773Z",
     "iopub.status.busy": "2023-10-27T12:04:59.088698Z",
     "iopub.status.idle": "2023-10-27T12:04:59.096923Z",
     "shell.execute_reply": "2023-10-27T12:04:59.096067Z",
     "shell.execute_reply.started": "2023-10-27T12:04:59.089732Z"
    }
   },
   "outputs": [],
   "source": [
    "import pandas as pd\n",
    "import numpy as np\n",
    "import matplotlib.pyplot as plt\n",
    "import seaborn as sns\n",
    "import re\n",
    "import string\n",
    "import nltk\n",
    "import warnings\n",
    "%matplotlib inline\n",
    "\n",
    "warnings.filterwarnings('ignore')"
   ]
  },
  {
   "cell_type": "code",
   "execution_count": 3,
   "metadata": {
    "execution": {
     "iopub.execute_input": "2023-10-27T12:04:59.113998Z",
     "iopub.status.busy": "2023-10-27T12:04:59.113621Z",
     "iopub.status.idle": "2023-10-27T12:04:59.141671Z",
     "shell.execute_reply": "2023-10-27T12:04:59.140569Z",
     "shell.execute_reply.started": "2023-10-27T12:04:59.113966Z"
    }
   },
   "outputs": [
    {
     "data": {
      "text/html": [
       "<div>\n",
       "<style scoped>\n",
       "    .dataframe tbody tr th:only-of-type {\n",
       "        vertical-align: middle;\n",
       "    }\n",
       "\n",
       "    .dataframe tbody tr th {\n",
       "        vertical-align: top;\n",
       "    }\n",
       "\n",
       "    .dataframe thead th {\n",
       "        text-align: right;\n",
       "    }\n",
       "</style>\n",
       "<table border=\"1\" class=\"dataframe\">\n",
       "  <thead>\n",
       "    <tr style=\"text-align: right;\">\n",
       "      <th></th>\n",
       "      <th>TweetId</th>\n",
       "      <th>Label</th>\n",
       "      <th>TweetText</th>\n",
       "    </tr>\n",
       "  </thead>\n",
       "  <tbody>\n",
       "    <tr>\n",
       "      <th>0</th>\n",
       "      <td>304271250237304833</td>\n",
       "      <td>Politics</td>\n",
       "      <td>'#SecKerry: The value of the @StateDept and @U...</td>\n",
       "    </tr>\n",
       "    <tr>\n",
       "      <th>1</th>\n",
       "      <td>304834304222064640</td>\n",
       "      <td>Politics</td>\n",
       "      <td>'@rraina1481 I fear so'</td>\n",
       "    </tr>\n",
       "    <tr>\n",
       "      <th>2</th>\n",
       "      <td>303568995880144898</td>\n",
       "      <td>Sports</td>\n",
       "      <td>'Watch video highlights of the #wwc13 final be...</td>\n",
       "    </tr>\n",
       "    <tr>\n",
       "      <th>3</th>\n",
       "      <td>304366580664528896</td>\n",
       "      <td>Sports</td>\n",
       "      <td>'RT @chelscanlan: At Nitro Circus at #AlbertPa...</td>\n",
       "    </tr>\n",
       "    <tr>\n",
       "      <th>4</th>\n",
       "      <td>296770931098009601</td>\n",
       "      <td>Sports</td>\n",
       "      <td>'@cricketfox Always a good thing. Thanks for t...</td>\n",
       "    </tr>\n",
       "  </tbody>\n",
       "</table>\n",
       "</div>"
      ],
      "text/plain": [
       "              TweetId     Label  \\\n",
       "0  304271250237304833  Politics   \n",
       "1  304834304222064640  Politics   \n",
       "2  303568995880144898    Sports   \n",
       "3  304366580664528896    Sports   \n",
       "4  296770931098009601    Sports   \n",
       "\n",
       "                                           TweetText  \n",
       "0  '#SecKerry: The value of the @StateDept and @U...  \n",
       "1                            '@rraina1481 I fear so'  \n",
       "2  'Watch video highlights of the #wwc13 final be...  \n",
       "3  'RT @chelscanlan: At Nitro Circus at #AlbertPa...  \n",
       "4  '@cricketfox Always a good thing. Thanks for t...  "
      ]
     },
     "execution_count": 3,
     "metadata": {},
     "output_type": "execute_result"
    }
   ],
   "source": [
    "df_train = pd.read_csv('deeptweets/train.csv')\n",
    "df_train.head()"
   ]
  },
  {
   "cell_type": "markdown",
   "metadata": {},
   "source": []
  },
  {
   "cell_type": "code",
   "execution_count": 4,
   "metadata": {
    "execution": {
     "iopub.execute_input": "2023-10-27T12:04:59.144401Z",
     "iopub.status.busy": "2023-10-27T12:04:59.143945Z",
     "iopub.status.idle": "2023-10-27T12:04:59.164015Z",
     "shell.execute_reply": "2023-10-27T12:04:59.163168Z",
     "shell.execute_reply.started": "2023-10-27T12:04:59.144358Z"
    }
   },
   "outputs": [
    {
     "data": {
      "text/html": [
       "<div>\n",
       "<style scoped>\n",
       "    .dataframe tbody tr th:only-of-type {\n",
       "        vertical-align: middle;\n",
       "    }\n",
       "\n",
       "    .dataframe tbody tr th {\n",
       "        vertical-align: top;\n",
       "    }\n",
       "\n",
       "    .dataframe thead th {\n",
       "        text-align: right;\n",
       "    }\n",
       "</style>\n",
       "<table border=\"1\" class=\"dataframe\">\n",
       "  <thead>\n",
       "    <tr style=\"text-align: right;\">\n",
       "      <th></th>\n",
       "      <th>TweetId</th>\n",
       "      <th>TweetText</th>\n",
       "    </tr>\n",
       "  </thead>\n",
       "  <tbody>\n",
       "    <tr>\n",
       "      <th>0</th>\n",
       "      <td>306486520121012224</td>\n",
       "      <td>'28. The home side threaten again through Maso...</td>\n",
       "    </tr>\n",
       "    <tr>\n",
       "      <th>1</th>\n",
       "      <td>286353402605228032</td>\n",
       "      <td>'@mrbrown @aulia Thx for asking. See http://t....</td>\n",
       "    </tr>\n",
       "    <tr>\n",
       "      <th>2</th>\n",
       "      <td>289531046037438464</td>\n",
       "      <td>'@Sochi2014 construction along the shores of t...</td>\n",
       "    </tr>\n",
       "    <tr>\n",
       "      <th>3</th>\n",
       "      <td>306451661403062273</td>\n",
       "      <td>'#SecKerry\\u2019s remarks after meeting with F...</td>\n",
       "    </tr>\n",
       "    <tr>\n",
       "      <th>4</th>\n",
       "      <td>297941800658812928</td>\n",
       "      <td>'The #IPLauction has begun. Ricky Ponting is t...</td>\n",
       "    </tr>\n",
       "  </tbody>\n",
       "</table>\n",
       "</div>"
      ],
      "text/plain": [
       "              TweetId                                          TweetText\n",
       "0  306486520121012224  '28. The home side threaten again through Maso...\n",
       "1  286353402605228032  '@mrbrown @aulia Thx for asking. See http://t....\n",
       "2  289531046037438464  '@Sochi2014 construction along the shores of t...\n",
       "3  306451661403062273  '#SecKerry\\u2019s remarks after meeting with F...\n",
       "4  297941800658812928  'The #IPLauction has begun. Ricky Ponting is t..."
      ]
     },
     "execution_count": 4,
     "metadata": {},
     "output_type": "execute_result"
    }
   ],
   "source": [
    "df_test = pd.read_csv('deeptweets/test.csv')\n",
    "df_test.head()"
   ]
  },
  {
   "cell_type": "markdown",
   "metadata": {},
   "source": [
    "# Preprocessing the data"
   ]
  },
  {
   "cell_type": "code",
   "execution_count": 5,
   "metadata": {
    "execution": {
     "iopub.execute_input": "2023-10-27T12:04:59.166218Z",
     "iopub.status.busy": "2023-10-27T12:04:59.165895Z",
     "iopub.status.idle": "2023-10-27T12:04:59.177217Z",
     "shell.execute_reply": "2023-10-27T12:04:59.176145Z",
     "shell.execute_reply.started": "2023-10-27T12:04:59.166190Z"
    }
   },
   "outputs": [
    {
     "data": {
      "text/plain": [
       "False"
      ]
     },
     "execution_count": 5,
     "metadata": {},
     "output_type": "execute_result"
    }
   ],
   "source": [
    "df_train.isnull().values.any()"
   ]
  },
  {
   "cell_type": "code",
   "execution_count": 6,
   "metadata": {
    "execution": {
     "iopub.execute_input": "2023-10-27T12:04:59.189173Z",
     "iopub.status.busy": "2023-10-27T12:04:59.188750Z",
     "iopub.status.idle": "2023-10-27T12:04:59.431922Z",
     "shell.execute_reply": "2023-10-27T12:04:59.430897Z",
     "shell.execute_reply.started": "2023-10-27T12:04:59.189140Z"
    }
   },
   "outputs": [
    {
     "data": {
      "text/plain": [
       "<Axes: xlabel='Label', ylabel='count'>"
      ]
     },
     "execution_count": 6,
     "metadata": {},
     "output_type": "execute_result"
    },
    {
     "data": {
      "image/png": "[encoded data removed]",
      "text/plain": [
       "<Figure size 640x480 with 1 Axes>"
      ]
     },
     "metadata": {},
     "output_type": "display_data"
    }
   ],
   "source": [
    "sns.countplot(x='Label',data=df_train)"
   ]
  },
  {
   "cell_type": "code",
   "execution_count": 7,
   "metadata": {
    "execution": {
     "iopub.execute_input": "2023-10-27T12:04:59.434037Z",
     "iopub.status.busy": "2023-10-27T12:04:59.433673Z",
     "iopub.status.idle": "2023-10-27T12:04:59.440753Z",
     "shell.execute_reply": "2023-10-27T12:04:59.439693Z",
     "shell.execute_reply.started": "2023-10-27T12:04:59.434007Z"
    }
   },
   "outputs": [],
   "source": [
    "# Label encoding 0 = Sports , 1 = Politics\n",
    "def LabelEncoding(df):\n",
    "    y = df['Label']\n",
    "    y = np.array(list(map(lambda x: 1 if x=='Politics' else 0,y)))\n",
    "    df['Label_encoding'] = y\n",
    "    return df"
   ]
  },
  {
   "cell_type": "code",
   "execution_count": 8,
   "metadata": {
    "execution": {
     "iopub.execute_input": "2023-10-27T12:04:59.442509Z",
     "iopub.status.busy": "2023-10-27T12:04:59.442162Z",
     "iopub.status.idle": "2023-10-27T12:04:59.464281Z",
     "shell.execute_reply": "2023-10-27T12:04:59.463173Z",
     "shell.execute_reply.started": "2023-10-27T12:04:59.442468Z"
    }
   },
   "outputs": [
    {
     "data": {
      "text/html": [
       "<div>\n",
       "<style scoped>\n",
       "    .dataframe tbody tr th:only-of-type {\n",
       "        vertical-align: middle;\n",
       "    }\n",
       "\n",
       "    .dataframe tbody tr th {\n",
       "        vertical-align: top;\n",
       "    }\n",
       "\n",
       "    .dataframe thead th {\n",
       "        text-align: right;\n",
       "    }\n",
       "</style>\n",
       "<table border=\"1\" class=\"dataframe\">\n",
       "  <thead>\n",
       "    <tr style=\"text-align: right;\">\n",
       "      <th></th>\n",
       "      <th>TweetId</th>\n",
       "      <th>Label</th>\n",
       "      <th>TweetText</th>\n",
       "      <th>Label_encoding</th>\n",
       "    </tr>\n",
       "  </thead>\n",
       "  <tbody>\n",
       "    <tr>\n",
       "      <th>0</th>\n",
       "      <td>304271250237304833</td>\n",
       "      <td>Politics</td>\n",
       "      <td>'#SecKerry: The value of the @StateDept and @U...</td>\n",
       "      <td>1</td>\n",
       "    </tr>\n",
       "    <tr>\n",
       "      <th>1</th>\n",
       "      <td>304834304222064640</td>\n",
       "      <td>Politics</td>\n",
       "      <td>'@rraina1481 I fear so'</td>\n",
       "      <td>1</td>\n",
       "    </tr>\n",
       "    <tr>\n",
       "      <th>2</th>\n",
       "      <td>303568995880144898</td>\n",
       "      <td>Sports</td>\n",
       "      <td>'Watch video highlights of the #wwc13 final be...</td>\n",
       "      <td>0</td>\n",
       "    </tr>\n",
       "    <tr>\n",
       "      <th>3</th>\n",
       "      <td>304366580664528896</td>\n",
       "      <td>Sports</td>\n",
       "      <td>'RT @chelscanlan: At Nitro Circus at #AlbertPa...</td>\n",
       "      <td>0</td>\n",
       "    </tr>\n",
       "    <tr>\n",
       "      <th>4</th>\n",
       "      <td>296770931098009601</td>\n",
       "      <td>Sports</td>\n",
       "      <td>'@cricketfox Always a good thing. Thanks for t...</td>\n",
       "      <td>0</td>\n",
       "    </tr>\n",
       "  </tbody>\n",
       "</table>\n",
       "</div>"
      ],
      "text/plain": [
       "              TweetId     Label  \\\n",
       "0  304271250237304833  Politics   \n",
       "1  304834304222064640  Politics   \n",
       "2  303568995880144898    Sports   \n",
       "3  304366580664528896    Sports   \n",
       "4  296770931098009601    Sports   \n",
       "\n",
       "                                           TweetText  Label_encoding  \n",
       "0  '#SecKerry: The value of the @StateDept and @U...               1  \n",
       "1                            '@rraina1481 I fear so'               1  \n",
       "2  'Watch video highlights of the #wwc13 final be...               0  \n",
       "3  'RT @chelscanlan: At Nitro Circus at #AlbertPa...               0  \n",
       "4  '@cricketfox Always a good thing. Thanks for t...               0  "
      ]
     },
     "execution_count": 8,
     "metadata": {},
     "output_type": "execute_result"
    }
   ],
   "source": [
    "df_train = LabelEncoding(df_train)\n",
    "df_train.head()"
   ]
  },
  {
   "cell_type": "code",
   "execution_count": 9,
   "metadata": {
    "execution": {
     "iopub.execute_input": "2023-10-27T12:04:59.467339Z",
     "iopub.status.busy": "2023-10-27T12:04:59.467002Z",
     "iopub.status.idle": "2023-10-27T12:04:59.478503Z",
     "shell.execute_reply": "2023-10-27T12:04:59.477427Z",
     "shell.execute_reply.started": "2023-10-27T12:04:59.467309Z"
    }
   },
   "outputs": [],
   "source": [
    "# function to Remove text based on patterns \n",
    "def remove_pattern(txt, pattern):\n",
    "    r = re.findall(pattern,txt)\n",
    "    for word in r:\n",
    "        txt = re.sub(word,\"\",txt)\n",
    "    return txt"
   ]
  },
  {
   "cell_type": "code",
   "execution_count": 10,
   "metadata": {
    "execution": {
     "iopub.execute_input": "2023-10-27T12:04:59.480535Z",
     "iopub.status.busy": "2023-10-27T12:04:59.480199Z",
     "iopub.status.idle": "2023-10-27T12:04:59.491347Z",
     "shell.execute_reply": "2023-10-27T12:04:59.490397Z",
     "shell.execute_reply.started": "2023-10-27T12:04:59.480507Z"
    }
   },
   "outputs": [],
   "source": [
    "def clean_tweet(df):\n",
    "    \n",
    "    # remove twitter handles @ \n",
    "    df['clean_tweet'] = np.vectorize(remove_pattern)(df['TweetText'],\"@[\\w]*\")\n",
    "    \n",
    "    # remove special characters, numbers and punctuations\n",
    "    df['clean_tweet'] = df['clean_tweet'].str.replace(\"[^a-zA-Z#]\",\" \")\n",
    "    \n",
    "    # remove short words (if word lenght smaller than 3)\n",
    "    df['clean_tweet'] = df['clean_tweet'].apply(lambda x: \" \".join([w for w in x.split() if len(w)>3]))\n",
    "    \n",
    "    # remove urls\n",
    "    df['clean_tweet'] = df['clean_tweet'].str.replace('https?://\\S+|www\\.\\S+',\" \")\n",
    "    \n",
    "    # Remove the ' \n",
    "    df['clean_tweet'] = df['clean_tweet'].str.replace(\"'\", \"\")\n",
    "    \n",
    "        \n",
    "    return df\n"
   ]
  },
  {
   "cell_type": "code",
   "execution_count": 11,
   "metadata": {
    "execution": {
     "iopub.execute_input": "2023-10-27T12:04:59.493166Z",
     "iopub.status.busy": "2023-10-27T12:04:59.492592Z",
     "iopub.status.idle": "2023-10-27T12:04:59.759743Z",
     "shell.execute_reply": "2023-10-27T12:04:59.758643Z",
     "shell.execute_reply.started": "2023-10-27T12:04:59.493123Z"
    }
   },
   "outputs": [
    {
     "data": {
      "text/html": [
       "<div>\n",
       "<style scoped>\n",
       "    .dataframe tbody tr th:only-of-type {\n",
       "        vertical-align: middle;\n",
       "    }\n",
       "\n",
       "    .dataframe tbody tr th {\n",
       "        vertical-align: top;\n",
       "    }\n",
       "\n",
       "    .dataframe thead th {\n",
       "        text-align: right;\n",
       "    }\n",
       "</style>\n",
       "<table border=\"1\" class=\"dataframe\">\n",
       "  <thead>\n",
       "    <tr style=\"text-align: right;\">\n",
       "      <th></th>\n",
       "      <th>TweetId</th>\n",
       "      <th>Label</th>\n",
       "      <th>TweetText</th>\n",
       "      <th>Label_encoding</th>\n",
       "      <th>clean_tweet</th>\n",
       "    </tr>\n",
       "  </thead>\n",
       "  <tbody>\n",
       "    <tr>\n",
       "      <th>0</th>\n",
       "      <td>304271250237304833</td>\n",
       "      <td>Politics</td>\n",
       "      <td>'#SecKerry: The value of the @StateDept and @U...</td>\n",
       "      <td>1</td>\n",
       "      <td>#SecKerry: value measured, dollars, terms deep...</td>\n",
       "    </tr>\n",
       "    <tr>\n",
       "      <th>1</th>\n",
       "      <td>304834304222064640</td>\n",
       "      <td>Politics</td>\n",
       "      <td>'@rraina1481 I fear so'</td>\n",
       "      <td>1</td>\n",
       "      <td>fear</td>\n",
       "    </tr>\n",
       "    <tr>\n",
       "      <th>2</th>\n",
       "      <td>303568995880144898</td>\n",
       "      <td>Sports</td>\n",
       "      <td>'Watch video highlights of the #wwc13 final be...</td>\n",
       "      <td>0</td>\n",
       "      <td>Watch video highlights #wwc13 final between Au...</td>\n",
       "    </tr>\n",
       "    <tr>\n",
       "      <th>3</th>\n",
       "      <td>304366580664528896</td>\n",
       "      <td>Sports</td>\n",
       "      <td>'RT @chelscanlan: At Nitro Circus at #AlbertPa...</td>\n",
       "      <td>0</td>\n",
       "      <td>Nitro Circus #AlbertPark #theymakeitlooksoeasy...</td>\n",
       "    </tr>\n",
       "    <tr>\n",
       "      <th>4</th>\n",
       "      <td>296770931098009601</td>\n",
       "      <td>Sports</td>\n",
       "      <td>'@cricketfox Always a good thing. Thanks for t...</td>\n",
       "      <td>0</td>\n",
       "      <td>Always good thing. Thanks feedback :-)</td>\n",
       "    </tr>\n",
       "  </tbody>\n",
       "</table>\n",
       "</div>"
      ],
      "text/plain": [
       "              TweetId     Label  \\\n",
       "0  304271250237304833  Politics   \n",
       "1  304834304222064640  Politics   \n",
       "2  303568995880144898    Sports   \n",
       "3  304366580664528896    Sports   \n",
       "4  296770931098009601    Sports   \n",
       "\n",
       "                                           TweetText  Label_encoding  \\\n",
       "0  '#SecKerry: The value of the @StateDept and @U...               1   \n",
       "1                            '@rraina1481 I fear so'               1   \n",
       "2  'Watch video highlights of the #wwc13 final be...               0   \n",
       "3  'RT @chelscanlan: At Nitro Circus at #AlbertPa...               0   \n",
       "4  '@cricketfox Always a good thing. Thanks for t...               0   \n",
       "\n",
       "                                         clean_tweet  \n",
       "0  #SecKerry: value measured, dollars, terms deep...  \n",
       "1                                               fear  \n",
       "2  Watch video highlights #wwc13 final between Au...  \n",
       "3  Nitro Circus #AlbertPark #theymakeitlooksoeasy...  \n",
       "4             Always good thing. Thanks feedback :-)  "
      ]
     },
     "execution_count": 11,
     "metadata": {},
     "output_type": "execute_result"
    }
   ],
   "source": [
    "df_train = clean_tweet(df_train)\n",
    "df_train.head()"
   ]
  },
  {
   "cell_type": "code",
   "execution_count": 12,
   "metadata": {
    "execution": {
     "iopub.execute_input": "2023-10-27T12:04:59.761450Z",
     "iopub.status.busy": "2023-10-27T12:04:59.761096Z",
     "iopub.status.idle": "2023-10-27T12:04:59.870289Z",
     "shell.execute_reply": "2023-10-27T12:04:59.869155Z",
     "shell.execute_reply.started": "2023-10-27T12:04:59.761419Z"
    }
   },
   "outputs": [
    {
     "data": {
      "text/html": [
       "<div>\n",
       "<style scoped>\n",
       "    .dataframe tbody tr th:only-of-type {\n",
       "        vertical-align: middle;\n",
       "    }\n",
       "\n",
       "    .dataframe tbody tr th {\n",
       "        vertical-align: top;\n",
       "    }\n",
       "\n",
       "    .dataframe thead th {\n",
       "        text-align: right;\n",
       "    }\n",
       "</style>\n",
       "<table border=\"1\" class=\"dataframe\">\n",
       "  <thead>\n",
       "    <tr style=\"text-align: right;\">\n",
       "      <th></th>\n",
       "      <th>TweetId</th>\n",
       "      <th>TweetText</th>\n",
       "      <th>clean_tweet</th>\n",
       "    </tr>\n",
       "  </thead>\n",
       "  <tbody>\n",
       "    <tr>\n",
       "      <th>0</th>\n",
       "      <td>306486520121012224</td>\n",
       "      <td>'28. The home side threaten again through Maso...</td>\n",
       "      <td>28. home side threaten again through Mason Ben...</td>\n",
       "    </tr>\n",
       "    <tr>\n",
       "      <th>1</th>\n",
       "      <td>286353402605228032</td>\n",
       "      <td>'@mrbrown @aulia Thx for asking. See http://t....</td>\n",
       "      <td>asking. http://t.co/yGJePjkf. derives from ser...</td>\n",
       "    </tr>\n",
       "    <tr>\n",
       "      <th>2</th>\n",
       "      <td>289531046037438464</td>\n",
       "      <td>'@Sochi2014 construction along the shores of t...</td>\n",
       "      <td>construction along shores Black http://t.co/8d...</td>\n",
       "    </tr>\n",
       "    <tr>\n",
       "      <th>3</th>\n",
       "      <td>306451661403062273</td>\n",
       "      <td>'#SecKerry\\u2019s remarks after meeting with F...</td>\n",
       "      <td>#SecKerry\\u2019s remarks after meeting with Fo...</td>\n",
       "    </tr>\n",
       "    <tr>\n",
       "      <th>4</th>\n",
       "      <td>297941800658812928</td>\n",
       "      <td>'The #IPLauction has begun. Ricky Ponting is t...</td>\n",
       "      <td>The #IPLauction begun. Ricky Ponting first pla...</td>\n",
       "    </tr>\n",
       "  </tbody>\n",
       "</table>\n",
       "</div>"
      ],
      "text/plain": [
       "              TweetId                                          TweetText  \\\n",
       "0  306486520121012224  '28. The home side threaten again through Maso...   \n",
       "1  286353402605228032  '@mrbrown @aulia Thx for asking. See http://t....   \n",
       "2  289531046037438464  '@Sochi2014 construction along the shores of t...   \n",
       "3  306451661403062273  '#SecKerry\\u2019s remarks after meeting with F...   \n",
       "4  297941800658812928  'The #IPLauction has begun. Ricky Ponting is t...   \n",
       "\n",
       "                                         clean_tweet  \n",
       "0  28. home side threaten again through Mason Ben...  \n",
       "1  asking. http://t.co/yGJePjkf. derives from ser...  \n",
       "2  construction along shores Black http://t.co/8d...  \n",
       "3  #SecKerry\\u2019s remarks after meeting with Fo...  \n",
       "4  The #IPLauction begun. Ricky Ponting first pla...  "
      ]
     },
     "execution_count": 12,
     "metadata": {},
     "output_type": "execute_result"
    }
   ],
   "source": [
    "df_test = clean_tweet(df_test)\n",
    "df_test.head()"
   ]
  },
  {
   "cell_type": "code",
   "execution_count": 13,
   "metadata": {
    "execution": {
     "iopub.execute_input": "2023-10-27T12:04:59.871821Z",
     "iopub.status.busy": "2023-10-27T12:04:59.871486Z",
     "iopub.status.idle": "2023-10-27T12:04:59.880959Z",
     "shell.execute_reply": "2023-10-27T12:04:59.879793Z",
     "shell.execute_reply.started": "2023-10-27T12:04:59.871782Z"
    }
   },
   "outputs": [],
   "source": [
    "from nltk.stem.porter import PorterStemmer\n",
    "def tokenize(df):\n",
    "    \n",
    "    # individual words considered as tockens\n",
    "    tokenized_tweet = df['clean_tweet'].apply(lambda x: x.split())\n",
    "    \n",
    "    # Stem the words (use one same word for multiple words that mean and are origin of the same word)\n",
    "    stemmer = PorterStemmer()\n",
    "    tokenized_tweet = tokenized_tweet.apply(lambda sentence: [stemmer.stem(word) for word in sentence])\n",
    "    \n",
    "    # Combine into single sentence\n",
    "    for i in range(len(tokenized_tweet)):\n",
    "        tokenized_tweet[i] = \" \".join(tokenized_tweet[i])\n",
    "    df['clean_tweet'] = tokenized_tweet\n",
    "    return df"
   ]
  },
  {
   "cell_type": "code",
   "execution_count": 14,
   "metadata": {
    "execution": {
     "iopub.execute_input": "2023-10-27T12:04:59.882472Z",
     "iopub.status.busy": "2023-10-27T12:04:59.882150Z",
     "iopub.status.idle": "2023-10-27T12:05:02.641900Z",
     "shell.execute_reply": "2023-10-27T12:05:02.640620Z",
     "shell.execute_reply.started": "2023-10-27T12:04:59.882443Z"
    }
   },
   "outputs": [
    {
     "data": {
      "text/html": [
       "<div>\n",
       "<style scoped>\n",
       "    .dataframe tbody tr th:only-of-type {\n",
       "        vertical-align: middle;\n",
       "    }\n",
       "\n",
       "    .dataframe tbody tr th {\n",
       "        vertical-align: top;\n",
       "    }\n",
       "\n",
       "    .dataframe thead th {\n",
       "        text-align: right;\n",
       "    }\n",
       "</style>\n",
       "<table border=\"1\" class=\"dataframe\">\n",
       "  <thead>\n",
       "    <tr style=\"text-align: right;\">\n",
       "      <th></th>\n",
       "      <th>TweetId</th>\n",
       "      <th>Label</th>\n",
       "      <th>TweetText</th>\n",
       "      <th>Label_encoding</th>\n",
       "      <th>clean_tweet</th>\n",
       "    </tr>\n",
       "  </thead>\n",
       "  <tbody>\n",
       "    <tr>\n",
       "      <th>0</th>\n",
       "      <td>304271250237304833</td>\n",
       "      <td>Politics</td>\n",
       "      <td>'#SecKerry: The value of the @StateDept and @U...</td>\n",
       "      <td>1</td>\n",
       "      <td>#seckerry: valu measured, dollars, term deepes...</td>\n",
       "    </tr>\n",
       "    <tr>\n",
       "      <th>1</th>\n",
       "      <td>304834304222064640</td>\n",
       "      <td>Politics</td>\n",
       "      <td>'@rraina1481 I fear so'</td>\n",
       "      <td>1</td>\n",
       "      <td>fear</td>\n",
       "    </tr>\n",
       "    <tr>\n",
       "      <th>2</th>\n",
       "      <td>303568995880144898</td>\n",
       "      <td>Sports</td>\n",
       "      <td>'Watch video highlights of the #wwc13 final be...</td>\n",
       "      <td>0</td>\n",
       "      <td>watch video highlight #wwc13 final between aus...</td>\n",
       "    </tr>\n",
       "    <tr>\n",
       "      <th>3</th>\n",
       "      <td>304366580664528896</td>\n",
       "      <td>Sports</td>\n",
       "      <td>'RT @chelscanlan: At Nitro Circus at #AlbertPa...</td>\n",
       "      <td>0</td>\n",
       "      <td>nitro circu #albertpark #theymakeitlooksoeasi ...</td>\n",
       "    </tr>\n",
       "    <tr>\n",
       "      <th>4</th>\n",
       "      <td>296770931098009601</td>\n",
       "      <td>Sports</td>\n",
       "      <td>'@cricketfox Always a good thing. Thanks for t...</td>\n",
       "      <td>0</td>\n",
       "      <td>alway good thing. thank feedback :-)</td>\n",
       "    </tr>\n",
       "  </tbody>\n",
       "</table>\n",
       "</div>"
      ],
      "text/plain": [
       "              TweetId     Label  \\\n",
       "0  304271250237304833  Politics   \n",
       "1  304834304222064640  Politics   \n",
       "2  303568995880144898    Sports   \n",
       "3  304366580664528896    Sports   \n",
       "4  296770931098009601    Sports   \n",
       "\n",
       "                                           TweetText  Label_encoding  \\\n",
       "0  '#SecKerry: The value of the @StateDept and @U...               1   \n",
       "1                            '@rraina1481 I fear so'               1   \n",
       "2  'Watch video highlights of the #wwc13 final be...               0   \n",
       "3  'RT @chelscanlan: At Nitro Circus at #AlbertPa...               0   \n",
       "4  '@cricketfox Always a good thing. Thanks for t...               0   \n",
       "\n",
       "                                         clean_tweet  \n",
       "0  #seckerry: valu measured, dollars, term deepes...  \n",
       "1                                               fear  \n",
       "2  watch video highlight #wwc13 final between aus...  \n",
       "3  nitro circu #albertpark #theymakeitlooksoeasi ...  \n",
       "4               alway good thing. thank feedback :-)  "
      ]
     },
     "execution_count": 14,
     "metadata": {},
     "output_type": "execute_result"
    }
   ],
   "source": [
    "df_train = tokenize(df_train)\n",
    "df_train.head()"
   ]
  },
  {
   "cell_type": "code",
   "execution_count": 15,
   "metadata": {
    "execution": {
     "iopub.execute_input": "2023-10-27T12:05:02.648051Z",
     "iopub.status.busy": "2023-10-27T12:05:02.647367Z",
     "iopub.status.idle": "2023-10-27T12:05:03.615244Z",
     "shell.execute_reply": "2023-10-27T12:05:03.614461Z",
     "shell.execute_reply.started": "2023-10-27T12:05:02.648006Z"
    }
   },
   "outputs": [
    {
     "data": {
      "text/html": [
       "<div>\n",
       "<style scoped>\n",
       "    .dataframe tbody tr th:only-of-type {\n",
       "        vertical-align: middle;\n",
       "    }\n",
       "\n",
       "    .dataframe tbody tr th {\n",
       "        vertical-align: top;\n",
       "    }\n",
       "\n",
       "    .dataframe thead th {\n",
       "        text-align: right;\n",
       "    }\n",
       "</style>\n",
       "<table border=\"1\" class=\"dataframe\">\n",
       "  <thead>\n",
       "    <tr style=\"text-align: right;\">\n",
       "      <th></th>\n",
       "      <th>TweetId</th>\n",
       "      <th>TweetText</th>\n",
       "      <th>clean_tweet</th>\n",
       "    </tr>\n",
       "  </thead>\n",
       "  <tbody>\n",
       "    <tr>\n",
       "      <th>0</th>\n",
       "      <td>306486520121012224</td>\n",
       "      <td>'28. The home side threaten again through Maso...</td>\n",
       "      <td>28. home side threaten again through mason ben...</td>\n",
       "    </tr>\n",
       "    <tr>\n",
       "      <th>1</th>\n",
       "      <td>286353402605228032</td>\n",
       "      <td>'@mrbrown @aulia Thx for asking. See http://t....</td>\n",
       "      <td>asking. http://t.co/ygjepjkf. deriv from seri ...</td>\n",
       "    </tr>\n",
       "    <tr>\n",
       "      <th>2</th>\n",
       "      <td>289531046037438464</td>\n",
       "      <td>'@Sochi2014 construction along the shores of t...</td>\n",
       "      <td>construct along shore black http://t.co/8dvin7wj</td>\n",
       "    </tr>\n",
       "    <tr>\n",
       "      <th>3</th>\n",
       "      <td>306451661403062273</td>\n",
       "      <td>'#SecKerry\\u2019s remarks after meeting with F...</td>\n",
       "      <td>#seckerry\\u2019 remark after meet with foreign...</td>\n",
       "    </tr>\n",
       "    <tr>\n",
       "      <th>4</th>\n",
       "      <td>297941800658812928</td>\n",
       "      <td>'The #IPLauction has begun. Ricky Ponting is t...</td>\n",
       "      <td>the #iplauct begun. ricki pont first player un...</td>\n",
       "    </tr>\n",
       "  </tbody>\n",
       "</table>\n",
       "</div>"
      ],
      "text/plain": [
       "              TweetId                                          TweetText  \\\n",
       "0  306486520121012224  '28. The home side threaten again through Maso...   \n",
       "1  286353402605228032  '@mrbrown @aulia Thx for asking. See http://t....   \n",
       "2  289531046037438464  '@Sochi2014 construction along the shores of t...   \n",
       "3  306451661403062273  '#SecKerry\\u2019s remarks after meeting with F...   \n",
       "4  297941800658812928  'The #IPLauction has begun. Ricky Ponting is t...   \n",
       "\n",
       "                                         clean_tweet  \n",
       "0  28. home side threaten again through mason ben...  \n",
       "1  asking. http://t.co/ygjepjkf. deriv from seri ...  \n",
       "2   construct along shore black http://t.co/8dvin7wj  \n",
       "3  #seckerry\\u2019 remark after meet with foreign...  \n",
       "4  the #iplauct begun. ricki pont first player un...  "
      ]
     },
     "execution_count": 15,
     "metadata": {},
     "output_type": "execute_result"
    }
   ],
   "source": [
    "df_test = tokenize(df_test)\n",
    "df_test.head()"
   ]
  },
  {
   "cell_type": "markdown",
   "metadata": {},
   "source": [
    "# Feature Extraction"
   ]
  },
  {
   "cell_type": "code",
   "execution_count": 16,
   "metadata": {
    "execution": {
     "iopub.execute_input": "2023-10-27T12:05:03.616981Z",
     "iopub.status.busy": "2023-10-27T12:05:03.616481Z",
     "iopub.status.idle": "2023-10-27T12:05:03.621578Z",
     "shell.execute_reply": "2023-10-27T12:05:03.620476Z",
     "shell.execute_reply.started": "2023-10-27T12:05:03.616949Z"
    }
   },
   "outputs": [],
   "source": [
    "    # from sklearn.feature_extraction.text import CountVectorizer\n",
    "# vectorizer = CountVectorizer(max_df=0.9, min_df=2,max_features=1000,stop_words='english')\n",
    "# X = vectorizer.fit_transform(df_train['clean_tweet'])"
   ]
  },
  {
   "cell_type": "code",
   "execution_count": 17,
   "metadata": {
    "execution": {
     "iopub.execute_input": "2023-10-27T12:05:03.623403Z",
     "iopub.status.busy": "2023-10-27T12:05:03.623095Z",
     "iopub.status.idle": "2023-10-27T12:05:04.501790Z",
     "shell.execute_reply": "2023-10-27T12:05:04.500223Z",
     "shell.execute_reply.started": "2023-10-27T12:05:03.623376Z"
    }
   },
   "outputs": [],
   "source": [
    "from sklearn.feature_extraction.text import TfidfVectorizer,CountVectorizer\n",
    "# Create the feature matrix and target vector\n",
    "vectorizer = TfidfVectorizer()\n",
    "vectorizer.fit(df_train['TweetText'])\n",
    "X = vectorizer.transform(df_train['TweetText']).toarray()"
   ]
  },
  {
   "cell_type": "markdown",
   "metadata": {},
   "source": [
    "# Split train,test "
   ]
  },
  {
   "cell_type": "code",
   "execution_count": 18,
   "metadata": {
    "execution": {
     "iopub.execute_input": "2023-10-27T12:05:04.504044Z",
     "iopub.status.busy": "2023-10-27T12:05:04.503662Z",
     "iopub.status.idle": "2023-10-27T12:05:04.985457Z",
     "shell.execute_reply": "2023-10-27T12:05:04.984150Z",
     "shell.execute_reply.started": "2023-10-27T12:05:04.504009Z"
    }
   },
   "outputs": [],
   "source": [
    "from sklearn.model_selection import train_test_split\n",
    "\n",
    "X_train, X_test, y_train, y_test = train_test_split(X,df_train['Label_encoding'],random_state=42, test_size = 0.25)"
   ]
  },
  {
   "cell_type": "markdown",
   "metadata": {},
   "source": [
    "# Model Training"
   ]
  },
  {
   "cell_type": "code",
   "execution_count": 19,
   "metadata": {
    "execution": {
     "iopub.execute_input": "2023-10-27T12:05:04.987436Z",
     "iopub.status.busy": "2023-10-27T12:05:04.987061Z",
     "iopub.status.idle": "2023-10-27T12:05:04.992678Z",
     "shell.execute_reply": "2023-10-27T12:05:04.991555Z",
     "shell.execute_reply.started": "2023-10-27T12:05:04.987404Z"
    }
   },
   "outputs": [],
   "source": [
    "from sklearn.linear_model import LogisticRegression"
   ]
  },
  {
   "cell_type": "code",
   "execution_count": 20,
   "metadata": {
    "execution": {
     "iopub.execute_input": "2023-10-27T12:05:04.994202Z",
     "iopub.status.busy": "2023-10-27T12:05:04.993894Z",
     "iopub.status.idle": "2023-10-27T12:05:05.004826Z",
     "shell.execute_reply": "2023-10-27T12:05:05.003921Z",
     "shell.execute_reply.started": "2023-10-27T12:05:04.994175Z"
    }
   },
   "outputs": [],
   "source": [
    "# # Training\n",
    "# model = LogisticRegression()\n",
    "# model.fit(X_train, y_train)"
   ]
  },
  {
   "cell_type": "code",
   "execution_count": 21,
   "metadata": {
    "execution": {
     "iopub.execute_input": "2023-10-27T12:05:05.007091Z",
     "iopub.status.busy": "2023-10-27T12:05:05.005991Z",
     "iopub.status.idle": "2023-10-27T12:05:05.235857Z",
     "shell.execute_reply": "2023-10-27T12:05:05.234349Z",
     "shell.execute_reply.started": "2023-10-27T12:05:05.007052Z"
    }
   },
   "outputs": [
    {
     "data": {
      "text/html": [
       "<style>#sk-container-id-1 {color: black;}#sk-container-id-1 pre{padding: 0;}#sk-container-id-1 div.sk-toggleable {background-color: white;}#sk-container-id-1 label.sk-toggleable__label {cursor: pointer;display: block;width: 100%;margin-bottom: 0;padding: 0.3em;box-sizing: border-box;text-align: center;}#sk-container-id-1 label.sk-toggleable__label-arrow:before {content: \"▸\";float: left;margin-right: 0.25em;color: #696969;}#sk-container-id-1 label.sk-toggleable__label-arrow:hover:before {color: black;}#sk-container-id-1 div.sk-estimator:hover label.sk-toggleable__label-arrow:before {color: black;}#sk-container-id-1 div.sk-toggleable__content {max-height: 0;max-width: 0;overflow: hidden;text-align: left;background-color: #f0f8ff;}#sk-container-id-1 div.sk-toggleable__content pre {margin: 0.2em;color: black;border-radius: 0.25em;background-color: #f0f8ff;}#sk-container-id-1 input.sk-toggleable__control:checked~div.sk-toggleable__content {max-height: 200px;max-width: 100%;overflow: auto;}#sk-container-id-1 input.sk-toggleable__control:checked~label.sk-toggleable__label-arrow:before {content: \"▾\";}#sk-container-id-1 div.sk-estimator input.sk-toggleable__control:checked~label.sk-toggleable__label {background-color: #d4ebff;}#sk-container-id-1 div.sk-label input.sk-toggleable__control:checked~label.sk-toggleable__label {background-color: #d4ebff;}#sk-container-id-1 input.sk-hidden--visually {border: 0;clip: rect(1px 1px 1px 1px);clip: rect(1px, 1px, 1px, 1px);height: 1px;margin: -1px;overflow: hidden;padding: 0;position: absolute;width: 1px;}#sk-container-id-1 div.sk-estimator {font-family: monospace;background-color: #f0f8ff;border: 1px dotted black;border-radius: 0.25em;box-sizing: border-box;margin-bottom: 0.5em;}#sk-container-id-1 div.sk-estimator:hover {background-color: #d4ebff;}#sk-container-id-1 div.sk-parallel-item::after {content: \"\";width: 100%;border-bottom: 1px solid gray;flex-grow: 1;}#sk-container-id-1 div.sk-label:hover label.sk-toggleable__label {background-color: #d4ebff;}#sk-container-id-1 div.sk-serial::before {content: \"\";position: absolute;border-left: 1px solid gray;box-sizing: border-box;top: 0;bottom: 0;left: 50%;z-index: 0;}#sk-container-id-1 div.sk-serial {display: flex;flex-direction: column;align-items: center;background-color: white;padding-right: 0.2em;padding-left: 0.2em;position: relative;}#sk-container-id-1 div.sk-item {position: relative;z-index: 1;}#sk-container-id-1 div.sk-parallel {display: flex;align-items: stretch;justify-content: center;background-color: white;position: relative;}#sk-container-id-1 div.sk-item::before, #sk-container-id-1 div.sk-parallel-item::before {content: \"\";position: absolute;border-left: 1px solid gray;box-sizing: border-box;top: 0;bottom: 0;left: 50%;z-index: -1;}#sk-container-id-1 div.sk-parallel-item {display: flex;flex-direction: column;z-index: 1;position: relative;background-color: white;}#sk-container-id-1 div.sk-parallel-item:first-child::after {align-self: flex-end;width: 50%;}#sk-container-id-1 div.sk-parallel-item:last-child::after {align-self: flex-start;width: 50%;}#sk-container-id-1 div.sk-parallel-item:only-child::after {width: 0;}#sk-container-id-1 div.sk-dashed-wrapped {border: 1px dashed gray;margin: 0 0.4em 0.5em 0.4em;box-sizing: border-box;padding-bottom: 0.4em;background-color: white;}#sk-container-id-1 div.sk-label label {font-family: monospace;font-weight: bold;display: inline-block;line-height: 1.2em;}#sk-container-id-1 div.sk-label-container {text-align: center;}#sk-container-id-1 div.sk-container {/* jupyter's `normalize.less` sets `[hidden] { display: none; }` but bootstrap.min.css set `[hidden] { display: none !important; }` so we also need the `!important` here to be able to override the default hidden behavior on the sphinx rendered scikit-learn.org. See: https://github.com/scikit-learn/scikit-learn/issues/21755 */display: inline-block !important;position: relative;}#sk-container-id-1 div.sk-text-repr-fallback {display: none;}</style><div id=\"sk-container-id-1\" class=\"sk-top-container\"><div class=\"sk-text-repr-fallback\"><pre>MultinomialNB(alpha=2)</pre><b>In a Jupyter environment, please rerun this cell to show the HTML representation or trust the notebook. <br />On GitHub, the HTML representation is unable to render, please try loading this page with nbviewer.org.</b></div><div class=\"sk-container\" hidden><div class=\"sk-item\"><div class=\"sk-estimator sk-toggleable\"><input class=\"sk-toggleable__control sk-hidden--visually\" id=\"sk-estimator-id-1\" type=\"checkbox\" checked><label for=\"sk-estimator-id-1\" class=\"sk-toggleable__label sk-toggleable__label-arrow\">MultinomialNB</label><div class=\"sk-toggleable__content\"><pre>MultinomialNB(alpha=2)</pre></div></div></div></div></div>"
      ],
      "text/plain": [
       "MultinomialNB(alpha=2)"
      ]
     },
     "execution_count": 21,
     "metadata": {},
     "output_type": "execute_result"
    }
   ],
   "source": [
    "# Train the model\n",
    "from sklearn.naive_bayes import MultinomialNB,BernoulliNB\n",
    "model = MultinomialNB(alpha=2)\n",
    "model.fit(X_train, y_train)"
   ]
  },
  {
   "cell_type": "code",
   "execution_count": 22,
   "metadata": {
    "execution": {
     "iopub.execute_input": "2023-10-27T12:05:05.247237Z",
     "iopub.status.busy": "2023-10-27T12:05:05.243142Z",
     "iopub.status.idle": "2023-10-27T12:05:05.257621Z",
     "shell.execute_reply": "2023-10-27T12:05:05.255895Z",
     "shell.execute_reply.started": "2023-10-27T12:05:05.247169Z"
    }
   },
   "outputs": [],
   "source": [
    "from sklearn.metrics import classification_report,ConfusionMatrixDisplay,confusion_matrix"
   ]
  },
  {
   "cell_type": "code",
   "execution_count": 23,
   "metadata": {
    "execution": {
     "iopub.execute_input": "2023-10-27T12:05:05.261593Z",
     "iopub.status.busy": "2023-10-27T12:05:05.260470Z",
     "iopub.status.idle": "2023-10-27T12:05:05.908517Z",
     "shell.execute_reply": "2023-10-27T12:05:05.907362Z",
     "shell.execute_reply.started": "2023-10-27T12:05:05.261549Z"
    }
   },
   "outputs": [
    {
     "name": "stdout",
     "output_type": "stream",
     "text": [
      "              precision    recall  f1-score   support\n",
      "\n",
      "           0       0.94      0.97      0.96       836\n",
      "           1       0.97      0.94      0.95       796\n",
      "\n",
      "    accuracy                           0.96      1632\n",
      "   macro avg       0.96      0.95      0.96      1632\n",
      "weighted avg       0.96      0.96      0.96      1632\n",
      "\n",
      "score train: 0.98 test: 0.96\n"
     ]
    },
    {
     "data": {
      "text/plain": [
       "<sklearn.metrics._plot.confusion_matrix.ConfusionMatrixDisplay at 0x24a619f1890>"
      ]
     },
     "execution_count": 23,
     "metadata": {},
     "output_type": "execute_result"
    },
    {
     "data": {
      "image/png": "[encoded data removed]",
      "text/plain": [
       "<Figure size 640x480 with 2 Axes>"
      ]
     },
     "metadata": {},
     "output_type": "display_data"
    }
   ],
   "source": [
    "# testing Scores\n",
    "\n",
    "y_predict = model.predict(X_test)\n",
    "\n",
    "print(\"{}\\nscore train: {:.2} test: {:.2}\".format(\n",
    "    classification_report(y_test, y_predict),\n",
    "    model.score(X_train, y_train), model.score(X_test, y_test)\n",
    "))\n",
    "\n",
    "ConfusionMatrixDisplay(\n",
    "    confusion_matrix(y_test, y_predict, normalize='pred'),\n",
    "    display_labels=[\"Politics\", \"Sports\"], \n",
    ").plot()"
   ]
  },
  {
   "cell_type": "markdown",
   "metadata": {},
   "source": [
    "# Submission"
   ]
  },
  {
   "cell_type": "code",
   "execution_count": 24,
   "metadata": {
    "execution": {
     "iopub.execute_input": "2023-10-27T12:05:05.911415Z",
     "iopub.status.busy": "2023-10-27T12:05:05.910270Z",
     "iopub.status.idle": "2023-10-27T12:05:05.916619Z",
     "shell.execute_reply": "2023-10-27T12:05:05.915345Z",
     "shell.execute_reply.started": "2023-10-27T12:05:05.911370Z"
    }
   },
   "outputs": [],
   "source": [
    "# # Vectorize df_test\n",
    "# X_df_test = vectorizer.fit_transform(df_test['clean_tweet'])"
   ]
  },
  {
   "cell_type": "code",
   "execution_count": 25,
   "metadata": {
    "execution": {
     "iopub.execute_input": "2023-10-27T12:05:05.919063Z",
     "iopub.status.busy": "2023-10-27T12:05:05.918529Z",
     "iopub.status.idle": "2023-10-27T12:05:06.142199Z",
     "shell.execute_reply": "2023-10-27T12:05:06.141199Z",
     "shell.execute_reply.started": "2023-10-27T12:05:05.919021Z"
    }
   },
   "outputs": [],
   "source": [
    "X_df_test = vectorizer.transform(df_test['TweetText']).toarray()"
   ]
  },
  {
   "cell_type": "code",
   "execution_count": 26,
   "metadata": {
    "execution": {
     "iopub.execute_input": "2023-10-27T12:05:06.144135Z",
     "iopub.status.busy": "2023-10-27T12:05:06.143434Z",
     "iopub.status.idle": "2023-10-27T12:05:06.286752Z",
     "shell.execute_reply": "2023-10-27T12:05:06.285116Z",
     "shell.execute_reply.started": "2023-10-27T12:05:06.144103Z"
    }
   },
   "outputs": [],
   "source": [
    "df_test_pred = model.predict(X_df_test)"
   ]
  },
  {
   "cell_type": "code",
   "execution_count": 27,
   "metadata": {
    "execution": {
     "iopub.execute_input": "2023-10-27T12:05:06.289641Z",
     "iopub.status.busy": "2023-10-27T12:05:06.288976Z",
     "iopub.status.idle": "2023-10-27T12:05:06.340931Z",
     "shell.execute_reply": "2023-10-27T12:05:06.339331Z",
     "shell.execute_reply.started": "2023-10-27T12:05:06.289587Z"
    }
   },
   "outputs": [],
   "source": [
    "# create submission file\n",
    "prediction_labels = [\"Sports\" if p <= 0.5 else \"Politics\" for p in df_test_pred]\n",
    "submission_df = pd.DataFrame({'TweetId': df_test['TweetId'], 'Label': prediction_labels})\n",
    "\n",
    "submission_df.to_csv('predictions.csv', index=False)"
   ]
  },
  {
   "cell_type": "code",
   "execution_count": 28,
   "metadata": {
    "execution": {
     "iopub.execute_input": "2023-10-27T12:05:06.344334Z",
     "iopub.status.busy": "2023-10-27T12:05:06.342958Z",
     "iopub.status.idle": "2023-10-27T12:05:06.364148Z",
     "shell.execute_reply": "2023-10-27T12:05:06.362489Z",
     "shell.execute_reply.started": "2023-10-27T12:05:06.344274Z"
    }
   },
   "outputs": [
    {
     "data": {
      "text/html": [
       "<div>\n",
       "<style scoped>\n",
       "    .dataframe tbody tr th:only-of-type {\n",
       "        vertical-align: middle;\n",
       "    }\n",
       "\n",
       "    .dataframe tbody tr th {\n",
       "        vertical-align: top;\n",
       "    }\n",
       "\n",
       "    .dataframe thead th {\n",
       "        text-align: right;\n",
       "    }\n",
       "</style>\n",
       "<table border=\"1\" class=\"dataframe\">\n",
       "  <thead>\n",
       "    <tr style=\"text-align: right;\">\n",
       "      <th></th>\n",
       "      <th>TweetId</th>\n",
       "      <th>Label</th>\n",
       "    </tr>\n",
       "  </thead>\n",
       "  <tbody>\n",
       "    <tr>\n",
       "      <th>0</th>\n",
       "      <td>306486520121012224</td>\n",
       "      <td>Sports</td>\n",
       "    </tr>\n",
       "    <tr>\n",
       "      <th>1</th>\n",
       "      <td>286353402605228032</td>\n",
       "      <td>Sports</td>\n",
       "    </tr>\n",
       "    <tr>\n",
       "      <th>2</th>\n",
       "      <td>289531046037438464</td>\n",
       "      <td>Politics</td>\n",
       "    </tr>\n",
       "    <tr>\n",
       "      <th>3</th>\n",
       "      <td>306451661403062273</td>\n",
       "      <td>Politics</td>\n",
       "    </tr>\n",
       "    <tr>\n",
       "      <th>4</th>\n",
       "      <td>297941800658812928</td>\n",
       "      <td>Sports</td>\n",
       "    </tr>\n",
       "    <tr>\n",
       "      <th>...</th>\n",
       "      <td>...</td>\n",
       "      <td>...</td>\n",
       "    </tr>\n",
       "    <tr>\n",
       "      <th>2605</th>\n",
       "      <td>282023761044189184</td>\n",
       "      <td>Politics</td>\n",
       "    </tr>\n",
       "    <tr>\n",
       "      <th>2606</th>\n",
       "      <td>303879735006601216</td>\n",
       "      <td>Sports</td>\n",
       "    </tr>\n",
       "    <tr>\n",
       "      <th>2607</th>\n",
       "      <td>297956846046703616</td>\n",
       "      <td>Sports</td>\n",
       "    </tr>\n",
       "    <tr>\n",
       "      <th>2608</th>\n",
       "      <td>304265049537658880</td>\n",
       "      <td>Politics</td>\n",
       "    </tr>\n",
       "    <tr>\n",
       "      <th>2609</th>\n",
       "      <td>306430391928115200</td>\n",
       "      <td>Politics</td>\n",
       "    </tr>\n",
       "  </tbody>\n",
       "</table>\n",
       "<p>2610 rows × 2 columns</p>\n",
       "</div>"
      ],
      "text/plain": [
       "                 TweetId     Label\n",
       "0     306486520121012224    Sports\n",
       "1     286353402605228032    Sports\n",
       "2     289531046037438464  Politics\n",
       "3     306451661403062273  Politics\n",
       "4     297941800658812928    Sports\n",
       "...                  ...       ...\n",
       "2605  282023761044189184  Politics\n",
       "2606  303879735006601216    Sports\n",
       "2607  297956846046703616    Sports\n",
       "2608  304265049537658880  Politics\n",
       "2609  306430391928115200  Politics\n",
       "\n",
       "[2610 rows x 2 columns]"
      ]
     },
     "execution_count": 28,
     "metadata": {},
     "output_type": "execute_result"
    }
   ],
   "source": [
    "submission_df"
   ]
  },
  {
   "cell_type": "code",
   "execution_count": null,
   "metadata": {},
   "outputs": [],
   "source": []
  }
 ],
 "metadata": {
  "kernelspec": {
   "display_name": "Python 3 (ipykernel)",
   "language": "python",
   "name": "python3"
  },
  "language_info": {
   "codemirror_mode": {
    "name": "ipython",
    "version": 3
   },
   "file_extension": ".py",
   "mimetype": "text/x-python",
   "name": "python",
   "nbconvert_exporter": "python",
   "pygments_lexer": "ipython3",
   "version": "3.11.5"
  }
 },
 "nbformat": 4,
 "nbformat_minor": 4
}
